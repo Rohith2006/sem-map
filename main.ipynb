{
  "cells": [
    {
      "cell_type": "code",
      "execution_count": 10,
      "metadata": {},
      "outputs": [
        {
          "name": "stdout",
          "output_type": "stream",
          "text": [
            "Requirement already satisfied: sentence-transformers in d:\\1p\\sku\\venv\\lib\\site-packages (3.4.1)\n",
            "Requirement already satisfied: faiss-cpu in d:\\1p\\sku\\venv\\lib\\site-packages (1.10.0)\n",
            "Requirement already satisfied: numpy in d:\\1p\\sku\\venv\\lib\\site-packages (2.2.3)\n",
            "Requirement already satisfied: transformers<5.0.0,>=4.41.0 in d:\\1p\\sku\\venv\\lib\\site-packages (from sentence-transformers) (4.49.0)\n",
            "Requirement already satisfied: tqdm in d:\\1p\\sku\\venv\\lib\\site-packages (from sentence-transformers) (4.67.1)\n",
            "Requirement already satisfied: torch>=1.11.0 in d:\\1p\\sku\\venv\\lib\\site-packages (from sentence-transformers) (2.6.0+cu118)\n",
            "Requirement already satisfied: scikit-learn in d:\\1p\\sku\\venv\\lib\\site-packages (from sentence-transformers) (1.6.1)\n",
            "Requirement already satisfied: scipy in d:\\1p\\sku\\venv\\lib\\site-packages (from sentence-transformers) (1.15.2)\n",
            "Requirement already satisfied: huggingface-hub>=0.20.0 in d:\\1p\\sku\\venv\\lib\\site-packages (from sentence-transformers) (0.29.3)\n",
            "Requirement already satisfied: Pillow in d:\\1p\\sku\\venv\\lib\\site-packages (from sentence-transformers) (11.1.0)\n",
            "Requirement already satisfied: packaging in d:\\1p\\sku\\venv\\lib\\site-packages (from faiss-cpu) (24.2)\n",
            "Requirement already satisfied: filelock in d:\\1p\\sku\\venv\\lib\\site-packages (from huggingface-hub>=0.20.0->sentence-transformers) (3.18.0)\n",
            "Requirement already satisfied: fsspec>=2023.5.0 in d:\\1p\\sku\\venv\\lib\\site-packages (from huggingface-hub>=0.20.0->sentence-transformers) (2025.3.0)\n",
            "Requirement already satisfied: pyyaml>=5.1 in d:\\1p\\sku\\venv\\lib\\site-packages (from huggingface-hub>=0.20.0->sentence-transformers) (6.0.2)\n",
            "Requirement already satisfied: requests in d:\\1p\\sku\\venv\\lib\\site-packages (from huggingface-hub>=0.20.0->sentence-transformers) (2.32.3)\n",
            "Requirement already satisfied: typing-extensions>=3.7.4.3 in d:\\1p\\sku\\venv\\lib\\site-packages (from huggingface-hub>=0.20.0->sentence-transformers) (4.12.2)\n",
            "Requirement already satisfied: networkx in d:\\1p\\sku\\venv\\lib\\site-packages (from torch>=1.11.0->sentence-transformers) (3.4.2)\n",
            "Requirement already satisfied: jinja2 in d:\\1p\\sku\\venv\\lib\\site-packages (from torch>=1.11.0->sentence-transformers) (3.1.6)\n",
            "Requirement already satisfied: setuptools in d:\\1p\\sku\\venv\\lib\\site-packages (from torch>=1.11.0->sentence-transformers) (76.0.0)\n",
            "Requirement already satisfied: sympy==1.13.1 in d:\\1p\\sku\\venv\\lib\\site-packages (from torch>=1.11.0->sentence-transformers) (1.13.1)\n",
            "Requirement already satisfied: mpmath<1.4,>=1.1.0 in d:\\1p\\sku\\venv\\lib\\site-packages (from sympy==1.13.1->torch>=1.11.0->sentence-transformers) (1.3.0)\n",
            "Requirement already satisfied: colorama in d:\\1p\\sku\\venv\\lib\\site-packages (from tqdm->sentence-transformers) (0.4.6)\n",
            "Requirement already satisfied: regex!=2019.12.17 in d:\\1p\\sku\\venv\\lib\\site-packages (from transformers<5.0.0,>=4.41.0->sentence-transformers) (2024.11.6)\n",
            "Requirement already satisfied: tokenizers<0.22,>=0.21 in d:\\1p\\sku\\venv\\lib\\site-packages (from transformers<5.0.0,>=4.41.0->sentence-transformers) (0.21.1)\n",
            "Requirement already satisfied: safetensors>=0.4.1 in d:\\1p\\sku\\venv\\lib\\site-packages (from transformers<5.0.0,>=4.41.0->sentence-transformers) (0.5.3)\n",
            "Requirement already satisfied: joblib>=1.2.0 in d:\\1p\\sku\\venv\\lib\\site-packages (from scikit-learn->sentence-transformers) (1.4.2)\n",
            "Requirement already satisfied: threadpoolctl>=3.1.0 in d:\\1p\\sku\\venv\\lib\\site-packages (from scikit-learn->sentence-transformers) (3.6.0)\n",
            "Requirement already satisfied: MarkupSafe>=2.0 in d:\\1p\\sku\\venv\\lib\\site-packages (from jinja2->torch>=1.11.0->sentence-transformers) (3.0.2)\n",
            "Requirement already satisfied: charset-normalizer<4,>=2 in d:\\1p\\sku\\venv\\lib\\site-packages (from requests->huggingface-hub>=0.20.0->sentence-transformers) (3.4.1)\n",
            "Requirement already satisfied: idna<4,>=2.5 in d:\\1p\\sku\\venv\\lib\\site-packages (from requests->huggingface-hub>=0.20.0->sentence-transformers) (3.10)\n",
            "Requirement already satisfied: urllib3<3,>=1.21.1 in d:\\1p\\sku\\venv\\lib\\site-packages (from requests->huggingface-hub>=0.20.0->sentence-transformers) (2.3.0)\n",
            "Requirement already satisfied: certifi>=2017.4.17 in d:\\1p\\sku\\venv\\lib\\site-packages (from requests->huggingface-hub>=0.20.0->sentence-transformers) (2025.1.31)\n",
            "Note: you may need to restart the kernel to use updated packages.\n"
          ]
        },
        {
          "name": "stderr",
          "output_type": "stream",
          "text": [
            "\n",
            "[notice] A new release of pip is available: 24.3.1 -> 25.0.1\n",
            "[notice] To update, run: python.exe -m pip install --upgrade pip\n"
          ]
        }
      ],
      "source": [
        "%pip install sentence-transformers faiss-cpu numpy"
      ]
    },
    {
      "cell_type": "code",
      "execution_count": 11,
      "metadata": {},
      "outputs": [
        {
          "name": "stdout",
          "output_type": "stream",
          "text": [
            "Looking in indexes: https://download.pytorch.org/whl/cu118\n",
            "Requirement already satisfied: torch in d:\\1p\\sku\\venv\\lib\\site-packages (2.6.0+cu118)\n",
            "Requirement already satisfied: filelock in d:\\1p\\sku\\venv\\lib\\site-packages (from torch) (3.18.0)\n",
            "Requirement already satisfied: typing-extensions>=4.10.0 in d:\\1p\\sku\\venv\\lib\\site-packages (from torch) (4.12.2)\n",
            "Requirement already satisfied: networkx in d:\\1p\\sku\\venv\\lib\\site-packages (from torch) (3.4.2)\n",
            "Requirement already satisfied: jinja2 in d:\\1p\\sku\\venv\\lib\\site-packages (from torch) (3.1.6)\n",
            "Requirement already satisfied: fsspec in d:\\1p\\sku\\venv\\lib\\site-packages (from torch) (2025.3.0)\n",
            "Requirement already satisfied: setuptools in d:\\1p\\sku\\venv\\lib\\site-packages (from torch) (76.0.0)\n",
            "Requirement already satisfied: sympy==1.13.1 in d:\\1p\\sku\\venv\\lib\\site-packages (from torch) (1.13.1)\n",
            "Requirement already satisfied: mpmath<1.4,>=1.1.0 in d:\\1p\\sku\\venv\\lib\\site-packages (from sympy==1.13.1->torch) (1.3.0)\n",
            "Requirement already satisfied: MarkupSafe>=2.0 in d:\\1p\\sku\\venv\\lib\\site-packages (from jinja2->torch) (3.0.2)\n",
            "Note: you may need to restart the kernel to use updated packages.\n"
          ]
        },
        {
          "name": "stderr",
          "output_type": "stream",
          "text": [
            "\n",
            "[notice] A new release of pip is available: 24.3.1 -> 25.0.1\n",
            "[notice] To update, run: python.exe -m pip install --upgrade pip\n"
          ]
        }
      ],
      "source": [
        "%pip install torch --index-url https://download.pytorch.org/whl/cu118"
      ]
    },
    {
      "cell_type": "code",
      "execution_count": 12,
      "metadata": {},
      "outputs": [
        {
          "name": "stdout",
          "output_type": "stream",
          "text": [
            "2.6.0+cu118\n",
            "True\n"
          ]
        }
      ],
      "source": [
        "import torch\n",
        "print(torch.__version__)\n",
        "print(torch.cuda.is_available())"
      ]
    },
    {
      "cell_type": "code",
      "execution_count": 3,
      "metadata": {
        "colab": {
          "base_uri": "https://localhost:8080/"
        },
        "id": "gw1uy2riG0Pf",
        "outputId": "660a5f7d-e523-4301-a2fd-97fe34437d81"
      },
      "outputs": [
        {
          "name": "stderr",
          "output_type": "stream",
          "text": [
            "d:\\1P\\SKU\\venv\\Lib\\site-packages\\tqdm\\auto.py:21: TqdmWarning: IProgress not found. Please update jupyter and ipywidgets. See https://ipywidgets.readthedocs.io/en/stable/user_install.html\n",
            "  from .autonotebook import tqdm as notebook_tqdm\n"
          ]
        }
      ],
      "source": [
        "import numpy as np\n",
        "from sentence_transformers import SentenceTransformer\n",
        "import faiss\n",
        "import torch\n",
        "import json"
      ]
    },
    {
      "cell_type": "code",
      "execution_count": 16,
      "metadata": {
        "colab": {
          "base_uri": "https://localhost:8080/"
        },
        "id": "Veod-OaDGERk",
        "outputId": "2aa36906-1cef-40cd-a179-7b841c5501ec"
      },
      "outputs": [
        {
          "data": {
            "text/plain": [
              "['clean_data.json', 'unclean_data.json']"
            ]
          },
          "execution_count": 16,
          "metadata": {},
          "output_type": "execute_result"
        }
      ],
      "source": [
        "import os\n",
        "os.listdir('./content')"
      ]
    },
    {
      "cell_type": "code",
      "execution_count": 17,
      "metadata": {
        "colab": {
          "base_uri": "https://localhost:8080/"
        },
        "id": "C8UxoOvCGJYC",
        "outputId": "2d6ffe6b-bee9-49c5-a205-2b3e2d35e52b"
      },
      "outputs": [
        {
          "name": "stdout",
          "output_type": "stream",
          "text": [
            "[('135666', {'name': 'Avastin 100mg Injection', 'price': 33863, 'manufacturer_name': 'Roche Products India Pvt Ltd', 'pack_size_label': 'vial of 1 Injection', 'content': 'Bevacizumab (100mg)'}), ('227647', {'name': 'Actorise 40 Injection', 'price': 2928.2, 'manufacturer_name': 'Cipla Ltd', 'pack_size_label': 'prefilled syringe of 0.4 ml Injection', 'content': 'Darbepoetin alfa (40mcg)'}), ('228329', {'name': 'Actorise 25 Injection', 'price': 1815, 'manufacturer_name': 'Cipla Ltd', 'pack_size_label': 'prefilled syringe of 0.42 ml Injection', 'content': 'Darbepoetin alfa (25mcg)'})]\n",
            "[('515278', {'c_barcode': '.', 'j_alternatives': [], 'c_hsn_code': '30049099', 'c_gst': '12.00', 'c_stock_availability': '0', 'j_molecules': [{'c_molecule_code': 'MC0265'}, {'c_molecule_code': 'MC0969', 'c_molecule_name': 'POVIDONE IODINE', 'c_description': 'Topical Antimicrobials, Antibacterial, Antibacterial Cleansing Agent, Antiseptic, Dressing Agent', 'c_usage': 'Topical solutionTopical ointmentTopical swabTopical sprayVaginal douche compliesOpthalmic solution', 'c_note': 'FDA-Labeled:Irrigation of eye - Preoperative disinfection of skinEndopthalmitisSurgical scrubAntisepticNON-FDA Labeled:BurnInfection control procedure - Skin cleansing procedureInfectious disease, In minor cuts, scrapes and burns; ProphylaxisIrrigationMucositis following radiation therapyPeriodontitisPreoperative disinfection of skinVaginal irritation', 'c_side_effect': 'Category C/ Risk in animals, risk cannot be ruled out in humans', 'c_contra_indications': 'Hypersensitivity to POVIDONE IODINE, iodides or any components of the formulationMost products not licensed to be used <2 yearsAvoid in patients with thyroid disorders or in lithium therapy. Exercise special care when applying to broken skin and in patients with renal insufficiency'}, {'c_molecule_code': 'MC0959', 'c_molecule_name': 'POLYVINYL ALCOHOL', 'c_description': 'Eye Lubricant, Synthetic Polymer[ Water soluble]', 'c_usage': 'Eye ointmentEye gelEye drops/solution', 'c_note': 'FDA Labeled:Dry eyesIrritated eyes', 'c_side_effect': 'Category C/ Risk in animals, risk cannot be ruled out in humans', 'c_contra_indications': 'Soft Contact lensesAllergic Reactions to Polyvinyl Alcohol or any components of its formulation'}], 'c_item_code': '515278', 'c_item_name': 'MOSS FRESH EYE DROPS', 'c_pack_name': '10ML', 'c_mfg_code': 'M02298', 'c_mfg_name': 'SYNTHO PHARMA CHEMICALS', 'n_mrp': 165.0, 'n_pack_size': 1, 'j_item_thumbnail_images': [{}], 'c_contains': 'POLYVINYL ALCOHOL+POVIDONE IODINE', 'c_watchlist_status': 'N', 'c_shortbook_status': 'N', 'c_discount_status': 'N', 'c_pack_type_name': 'DROPS', 'j_item_images': [{}], 'category': 'MEDICINE'}), ('515279', {'c_barcode': '.', 'j_alternatives': [], 'c_hsn_code': '30041010', 'c_gst': '12.00', 'c_stock_availability': '0', 'j_molecules': [{'c_molecule_code': 'MC0959', 'c_molecule_name': 'POLYVINYL ALCOHOL', 'c_description': 'Eye Lubricant, Synthetic Polymer[ Water soluble]', 'c_usage': 'Eye ointmentEye gelEye drops/solution', 'c_note': 'FDA Labeled:Dry eyesIrritated eyes', 'c_side_effect': 'Category C/ Risk in animals, risk cannot be ruled out in humans', 'c_contra_indications': 'Soft Contact lensesAllergic Reactions to Polyvinyl Alcohol or any components of its formulation'}, {'c_molecule_code': 'MC0969', 'c_molecule_name': 'POVIDONE IODINE', 'c_description': 'Topical Antimicrobials, Antibacterial, Antibacterial Cleansing Agent, Antiseptic, Dressing Agent', 'c_usage': 'Topical solutionTopical ointmentTopical swabTopical sprayVaginal douche compliesOpthalmic solution', 'c_note': 'FDA-Labeled:Irrigation of eye - Preoperative disinfection of skinEndopthalmitisSurgical scrubAntisepticNON-FDA Labeled:BurnInfection control procedure - Skin cleansing procedureInfectious disease, In minor cuts, scrapes and burns; ProphylaxisIrrigationMucositis following radiation therapyPeriodontitisPreoperative disinfection of skinVaginal irritation', 'c_side_effect': 'Category C/ Risk in animals, risk cannot be ruled out in humans', 'c_contra_indications': 'Hypersensitivity to POVIDONE IODINE, iodides or any components of the formulationMost products not licensed to be used <2 yearsAvoid in patients with thyroid disorders or in lithium therapy. Exercise special care when applying to broken skin and in patients with renal insufficiency'}, {'c_molecule_code': 'ML0252', 'c_molecule_name': 'CHLOROBUTOL', 'c_description': 'Antibacterial, Antifungal', 'c_usage': 'Intravenous (IV)', 'c_note': 'Severe Allergic reactions, AnaphylaxisMaintenance of Mydriasis during Intraocular Surgery', 'c_side_effect': 'Category C/ Risk in animals, risk cannot be ruled out in humans', 'c_contra_indications': 'Children under 3 months of age'}], 'c_item_code': '515279', 'c_item_name': 'MOSS PLUS EYE DROPS 5ML', 'c_pack_name': '5ML', 'c_mfg_code': 'M02298', 'c_mfg_name': 'SYNTHO PHARMA CHEMICALS', 'n_mrp': 48.85, 'n_pack_size': 1, 'j_item_thumbnail_images': [{}], 'c_contains': 'POLYVINYL ALCOHOL+POVIDONE IODINE', 'c_watchlist_status': 'N', 'c_shortbook_status': 'N', 'c_discount_status': 'N', 'c_pack_type_name': 'DROPS', 'j_item_images': [{}], 'category': 'MEDICINE'}), ('515295', {'c_barcode': '.', 'j_alternatives': [], 'c_hsn_code': '30042063', 'c_gst': '12.00', 'c_stock_availability': '0', 'j_molecules': [{'c_molecule_code': 'MC0309', 'c_molecule_name': 'CLINDAMYCIN', 'c_description': 'Antibiotic, Lincosamide', 'c_usage': ' Capsule Intravenous(IV)Gel, Pledget, Lotion, Solution, Foam', 'c_note': 'FDA labeled :Bacterial Infectious Disease( severe), susceptible infections(anaerobic organisms, Staphylococci, Streptococci, pneumococci).ImpetigoInfection of skinInfectious Diseases of AbdomenLower Respiratory Tract Infection(severe), Empyema, Abscess, PneumonitisPelvis Inflammatory DiseaseSepsisNON-FDA labeled :AcneAcute Otitis MediaBacterial EndocarditiBacterial VaginosisHIVMalaria', 'c_side_effect': 'Category C/ Risk in animals, risk cannot be ruled out in humans', 'c_contra_indications': 'Hypersensitivity to clindamycin, Lincomycin or any other component of the formulation Infants < 30 days of age'}], 'c_item_code': '515295', 'c_item_name': 'ACNESOL GEL 15GM', 'c_pack_name': '15GM', 'c_mfg_code': 'M02301', 'c_mfg_name': 'SYSTOPIC LABORATORIES PRIVATE LIMITED', 'n_mrp': 70.0, 'n_pack_size': 1, 'j_item_thumbnail_images': [{}], 'c_contains': 'CLINDAMYCIN', 'c_watchlist_status': 'N', 'c_shortbook_status': 'N', 'c_discount_status': 'N', 'c_pack_type_name': 'TUBE', 'j_item_images': [{}], 'category': 'MEDICINE'})]\n"
          ]
        }
      ],
      "source": [
        "import json\n",
        "\n",
        "# Load the clean data file\n",
        "with open('./content/clean_data.json', 'r') as f:\n",
        "    clean_data = json.load(f)\n",
        "\n",
        "# Load the unclean data file\n",
        "with open('./content/unclean_data.json', 'r') as f:\n",
        "    unclean_data = json.load(f)\n",
        "\n",
        "# Check a sample of the data\n",
        "print(list(clean_data.items())[:3])  # Display first 3 items of clean_data\n",
        "print(list(unclean_data.items())[:3])  # Display first 3 items of unclean_data"
      ]
    },
    {
      "cell_type": "code",
      "execution_count": 4,
      "metadata": {},
      "outputs": [
        {
          "name": "stdout",
          "output_type": "stream",
          "text": [
            "cuda\n"
          ]
        }
      ],
      "source": [
        "# Initialize the SentenceTransformer model for generating embeddings on GPU\n",
        "device = 'cuda' if torch.cuda.is_available() else 'cpu'  # Check if GPU is available\n",
        "print(device)\n",
        "model = SentenceTransformer('all-MiniLM-L12-v2', device=device)\n",
        "# model = SentenceTransformer('all-mpnet-base-v2', device=device)"
      ]
    },
    {
      "cell_type": "code",
      "execution_count": 26,
      "metadata": {
        "colab": {
          "base_uri": "https://localhost:8080/",
          "height": 49,
          "referenced_widgets": [
            "8025f77333dc451ba46b5b85b644635d",
            "eb4383695cf2436cade4e0ebe04dde9b",
            "8c920331720f474f96950b11ea062d91",
            "d6b7e11e935d435c8ff2bc49289aafa1",
            "43a9f3ba3d464e4dbceecb67fd9505dc",
            "a1c9f06fc61e4e229d19af515d31579e",
            "84b964e639c9410882c6971d1c73c811",
            "51fa911a25654b7ea80a2eef69b2979a",
            "8fbeca99ad744c7397655e2a9d6cc53d",
            "5f86cc095e0643828cca441e9f709a03",
            "870cf2f76ee743bc9e79ac5436fc0495"
          ]
        },
        "id": "tbbKG9yUGQgq",
        "outputId": "96451db7-6af0-408e-d7c9-672a186b1a89"
      },
      "outputs": [
        {
          "name": "stdout",
          "output_type": "stream",
          "text": [
            "Creating new FAISS index...\n"
          ]
        },
        {
          "name": "stderr",
          "output_type": "stream",
          "text": [
            "Batches: 100%|██████████| 8783/8783 [02:58<00:00, 49.27it/s]\n"
          ]
        },
        {
          "name": "stdout",
          "output_type": "stream",
          "text": [
            "FAISS index saved.\n"
          ]
        }
      ],
      "source": [
        "# Load the clean data (already loaded in your environment)\n",
        "clean_data_subset = dict(list(clean_data.items())[:])\n",
        "\n",
        "# Step 3: Extract relevant text from the clean data for embeddings\n",
        "clean_texts = [\n",
        "    # f\"{item.get('name'),''} {item.get('content', '')} {item.get('manufacturer_name', '')} {item.get('pack_size_label', '')}\"\n",
        "    f\"{item.get('name'),''} {item.get('manufacturer_name', '')}\"\n",
        "    for item in clean_data_subset.values()  # Use clean_data_subset here\n",
        "]\n",
        "\n",
        "index_file = \"faiss_index_FlatL2-n-m.bin\"\n",
        "\n",
        "if os.path.exists(index_file):\n",
        "    index = faiss.read_index(index_file)\n",
        "    print(\"Loaded existing FAISS index...\")\n",
        "else:\n",
        "    print(\"Creating new FAISS index...\")\n",
        "    # Generate embeddings for the clean data on GPU\n",
        "    clean_embeddings = model.encode(clean_texts, convert_to_tensor=True, show_progress_bar=True)\n",
        "    clean_embeddings = clean_embeddings.cpu().numpy()  # Move embeddings to CPU if necessary\n",
        "\n",
        "    # Create a FAISS index\n",
        "    dimension = clean_embeddings.shape[1]  # Embedding dimension (e.g., 384 for MiniLM)\n",
        "    # index = faiss.IndexFlatIP(dimension, 10)  # Inner product search\n",
        "    # index = faiss.IndexHNSWFlat(dimension, 10)  # Hierarchical Navigable Small World (HNSW)\n",
        "    # index = faiss.IndexBinaryFlat(dimension)  # Binary Hamming distance\n",
        "    index = faiss.IndexFlatL2(dimension)  # Exact nearest neighbor search(Euclidean Distance)\n",
        "\n",
        "    # 10 is the number of neighbors for HNSW index\n",
        "\n",
        "    # Add embeddings to the FAISS index\n",
        "    index.add(clean_embeddings)\n",
        "\n",
        "    # Save the FAISS index\n",
        "    faiss.write_index(index, index_file)\n",
        "    print(\"FAISS index saved.\")\n"
      ]
    },
    {
      "cell_type": "code",
      "execution_count": 34,
      "metadata": {
        "colab": {
          "base_uri": "https://localhost:8080/"
        },
        "id": "TxHXeaFr16gh",
        "outputId": "1c65ec98-8bf7-4168-e909-9074e04262ce"
      },
      "outputs": [
        {
          "name": "stdout",
          "output_type": "stream",
          "text": [
            "Unclean Item: MOSS FRESH EYE DROPS -- SYNTHO PHARMA CHEMICALS\n",
            "Top 10 Closest Matches:\n",
            "  {'name': 'Moss Fresh Gel Eye Drop', 'price': 165, 'manufacturer_name': 'Syntho Pharmaceuticals Pvt Ltd', 'pack_size_label': 'bottle of 10 ml Eye Drop', 'content': 'Carboxymethylcellulose (1% w/v)'} (Distance: 0.6039383411407471)\n",
            "  {'name': 'Eyewet Eye Drop', 'price': 96, 'manufacturer_name': 'Medimind Drugs and Chemicals', 'pack_size_label': 'bottle of 10 ml Ophthalmic Solution', 'content': 'Carboxymethylcellulose (0.5% w/v)'} (Distance: 0.6350395679473877)\n",
            "  {'name': 'Flucol Eye Drop', 'price': 25.02, 'manufacturer_name': 'SKN Organics', 'pack_size_label': 'packet of 15 ml Eye Drop', 'content': 'Fluconazole (0.3% w/v)'} (Distance: 0.703702449798584)\n",
            "  {'name': 'Eslate Eye Drops', 'price': 100, 'manufacturer_name': 'Essential Pharmaceuticals', 'pack_size_label': 'bottle of 5 ml Ophthalmic Solution', 'content': 'Cyclopentolate (1% w/v)'} (Distance: 0.7104870676994324)\n",
            "  {'name': 'Moss Plus Eye Drop', 'price': 137.66, 'manufacturer_name': 'Syntho Pharmaceuticals Pvt Ltd', 'pack_size_label': 'bottle of 10 ml Eye Drop', 'content': 'Carboxymethylcellulose (0.5% w/v)'} (Distance: 0.7169243097305298)\n",
            "  {'name': 'Fresh Eye Drop', 'price': 96, 'manufacturer_name': 'Vision Pharma', 'pack_size_label': 'bottle of 10 ml Eye Drop', 'content': 'Carboxymethylcellulose (0.5% w/v) + Oxychloro Complex (0.005% w/v)'} (Distance: 0.7180078625679016)\n",
            "  {'name': 'Floxicure 0.3% Eye Drop', 'price': 32, 'manufacturer_name': 'Balsons Pharmaceutical', 'pack_size_label': 'bottle of 10 ml Eye Drop', 'content': 'Ofloxacin (0.3% w/v)'} (Distance: 0.7286245822906494)\n",
            "  {'name': 'Napzol Eye Drop', 'price': 60, 'manufacturer_name': 'Flora & Pharma', 'pack_size_label': 'packet of 10 ml Eye Drop', 'content': 'Naphazoline (0.1% w/v) + Chlorpheniramine Maleate (0.01% w/v) + Methylcellulose (0.1% w/v)'} (Distance: 0.7371914982795715)\n",
            "  {'name': 'Moxi-P Eye Drop (Preservative Free)', 'price': 159.95, 'manufacturer_name': 'Aromed Pharmaceuticals', 'pack_size_label': 'bottle of 5 ml Ophthalmic Suspension', 'content': 'Moxifloxacin (0.5% w/v) + Prednisolone (1.0% w/v)'} (Distance: 0.7485737800598145)\n",
            "  {'name': 'Olasial Eye Drops', 'price': 130, 'manufacturer_name': 'Essential Pharmaceuticals', 'pack_size_label': 'bottle of 5 ml Ophthalmic Solution', 'content': 'Olopatadine (0.1% w/v)'} (Distance: 0.749293327331543)\n",
            "--------------------------------------------------\n",
            "Unclean Item: MOSS PLUS EYE DROPS 5ML -- SYNTHO PHARMA CHEMICALS\n",
            "Top 10 Closest Matches:\n",
            "  {'name': 'Eyewet Eye Drop', 'price': 96, 'manufacturer_name': 'Medimind Drugs and Chemicals', 'pack_size_label': 'bottle of 10 ml Ophthalmic Solution', 'content': 'Carboxymethylcellulose (0.5% w/v)'} (Distance: 0.7338646650314331)\n",
            "  {'name': 'Moss Plus Eye Drop', 'price': 137.66, 'manufacturer_name': 'Syntho Pharmaceuticals Pvt Ltd', 'pack_size_label': 'bottle of 10 ml Eye Drop', 'content': 'Carboxymethylcellulose (0.5% w/v)'} (Distance: 0.7913388013839722)\n",
            "  {'name': 'Eslate Eye Drops', 'price': 100, 'manufacturer_name': 'Essential Pharmaceuticals', 'pack_size_label': 'bottle of 5 ml Ophthalmic Solution', 'content': 'Cyclopentolate (1% w/v)'} (Distance: 0.7978314161300659)\n",
            "  {'name': 'Conzol Eye Drops', 'price': 100, 'manufacturer_name': 'Essential Pharmaceuticals', 'pack_size_label': 'bottle of 10 ml Ophthalmic Solution', 'content': 'Naphazoline (0.1% w/v) + Hydroxypropylmethylcellulose (0.1% w/v) + Chlorpheniramine Maleate (0.01% w/v) + Boric Acid (1.25% w/v)'} (Distance: 0.8131152987480164)\n",
            "  {'name': 'Moss Fresh Gel Eye Drop', 'price': 165, 'manufacturer_name': 'Syntho Pharmaceuticals Pvt Ltd', 'pack_size_label': 'bottle of 10 ml Eye Drop', 'content': 'Carboxymethylcellulose (1% w/v)'} (Distance: 0.8166470527648926)\n",
            "  {'name': 'Olasial Eye Drops', 'price': 130, 'manufacturer_name': 'Essential Pharmaceuticals', 'pack_size_label': 'bottle of 5 ml Ophthalmic Solution', 'content': 'Olopatadine (0.1% w/v)'} (Distance: 0.832471489906311)\n",
            "  {'name': 'Floxicure 0.3% Eye Drop', 'price': 32, 'manufacturer_name': 'Balsons Pharmaceutical', 'pack_size_label': 'bottle of 10 ml Eye Drop', 'content': 'Ofloxacin (0.3% w/v)'} (Distance: 0.8345930576324463)\n",
            "  {'name': 'Eyerinse 0.05% Eye Drop', 'price': 219, 'manufacturer_name': 'Solvis Pharmaceuticals', 'pack_size_label': 'packet of 10 ml Eye Drop', 'content': 'Carboxymethylcellulose (0.05% w/v)'} (Distance: 0.8394640684127808)\n",
            "  {'name': 'Napzol Eye Drop', 'price': 60, 'manufacturer_name': 'Flora & Pharma', 'pack_size_label': 'packet of 10 ml Eye Drop', 'content': 'Naphazoline (0.1% w/v) + Chlorpheniramine Maleate (0.01% w/v) + Methylcellulose (0.1% w/v)'} (Distance: 0.8465671539306641)\n",
            "  {'name': 'Esterflox 0.3% Eye/Ear Drops', 'price': 17, 'manufacturer_name': 'Ester Formulations', 'pack_size_label': 'packet of 5 ml Eye/Ear Drops', 'content': 'Ofloxacin (0.3% w/v)'} (Distance: 0.8497486114501953)\n",
            "--------------------------------------------------\n",
            "Unclean Item: ACNESOL GEL 15GM -- SYSTOPIC LABORATORIES PRIVATE LIMITED\n",
            "Top 10 Closest Matches:\n",
            "  {'name': 'Acnesol Gel', 'price': 95, 'manufacturer_name': 'Systopic Laboratories Pvt Ltd', 'pack_size_label': 'tube of 20 gm Gel', 'content': 'Clindamycin (1% w/w)'} (Distance: 0.4103097915649414)\n",
            "  {'name': 'Acnesol CL Gel', 'price': 70, 'manufacturer_name': 'Systopic Laboratories Pvt Ltd', 'pack_size_label': 'tube of 15 gm Gel', 'content': 'Clarithromycin (1% w/w)'} (Distance: 0.42840397357940674)\n",
            "  {'name': 'Acnesol-NC Gel', 'price': 100, 'manufacturer_name': 'Systopic Laboratories Pvt Ltd', 'pack_size_label': 'tube of 20 gm Gel', 'content': 'Clindamycin (1% w/w) + Nicotinamide (4% w/w)'} (Distance: 0.43241187930107117)\n",
            "  {'name': 'Acnesol A Nano Gel', 'price': 206, 'manufacturer_name': 'Systopic Laboratories Pvt Ltd', 'pack_size_label': 'tube of 15 gm Gel', 'content': 'Adapalene (0.1% w/w) + Clindamycin (1% w/w)'} (Distance: 0.43293094635009766)\n",
            "  {'name': 'Acnesone Gel', 'price': 47.12, 'manufacturer_name': 'Systopic Laboratories Pvt Ltd', 'pack_size_label': 'tube of 20 gm Gel', 'content': 'Dapsone (5% w/w)'} (Distance: 0.43662405014038086)\n",
            "  {'name': 'Alan Gel 0.1% Gel', 'price': 80.93, 'manufacturer_name': 'Systopic Laboratories Pvt Ltd', 'pack_size_label': 'tube of 15 gm Gel', 'content': 'Adapalene (0.1%)'} (Distance: 0.6349917054176331)\n",
            "  {'name': 'Acnesol 1% Solution for Acne', 'price': 76, 'manufacturer_name': 'Systopic Laboratories Pvt Ltd', 'pack_size_label': 'bottle of 30 ml Solution', 'content': 'Clindamycin (1% w/v)'} (Distance: 0.638119101524353)\n",
            "  {'name': 'Acnilite Gel', 'price': 127, 'manufacturer_name': 'Velite Pharmaceuticals', 'pack_size_label': 'tube of 20 gm Gel', 'content': 'Clindamycin (1% w/w) + Nicotinamide (4% w/w)'} (Distance: 0.6441137790679932)\n",
            "  {'name': 'Acnesol 1% solution', 'price': 97, 'manufacturer_name': 'Systopic Laboratories Pvt Ltd', 'pack_size_label': 'bottle of 25 ml Lotion', 'content': 'Clindamycin (1% w/v)'} (Distance: 0.6494649052619934)\n",
            "  {'name': 'Acstop Gel', 'price': 76, 'manufacturer_name': 'Sol Derma Pharmaceuiticals Pvt Ltd', 'pack_size_label': 'tube of 15 gm Gel', 'content': 'Clindamycin (1% w/w) + Nicotinamide (4% w/w)'} (Distance: 0.6618692874908447)\n",
            "--------------------------------------------------\n",
            "Unclean Item: WAXOLVE EAR DROPS 5ML -- BELL PHARMA PVT LTD\n",
            "Top 10 Closest Matches:\n",
            "  {'name': 'Waxolve Ear Drop', 'price': 141.17, 'manufacturer_name': 'Bell Pharma Pvt Ltd', 'pack_size_label': 'packet of 10 ml Ear Drop', 'content': 'Benzocaine (2.7% w/v) + Chlorbutol (5% w/v) + Paradichlorobenzene (2% w/v) + Turpentine Oil (15% v/v)'} (Distance: 0.4108727276325226)\n",
            "  {'name': 'Waxosan Ear Drop', 'price': 100, 'manufacturer_name': 'Nosme Pharmaceuticals', 'pack_size_label': 'bottle of 10 ml Ear Drop', 'content': 'Benzocaine (2.7% w/v) + Chlorbutol (5% w/v) + Paradichlorobenzene (2% w/v) + Turpentine Oil (15% w/v)'} (Distance: 0.5190457105636597)\n",
            "  {'name': 'Waxden Ear Drop', 'price': 70, 'manufacturer_name': 'Welgenic Pharma', 'pack_size_label': 'bottle of 10 ml Ear Drop', 'content': 'Benzocaine (2.7% w/v) + Chlorbutol (5% w/v) + Paradichlorobenzene (2% w/v) + Turpentine Oil (15% w/v)'} (Distance: 0.5383954048156738)\n",
            "  {'name': 'Wax Care Ear Drop', 'price': 31, 'manufacturer_name': 'Scott Edil Pharmacia Ltd', 'pack_size_label': 'bottle of 10 ml Ear Drop', 'content': 'Benzocaine (2.7% w/v) + Chlorbutol (5% w/v) + Paradichlorobenzene (2% w/v) + Turpentine Oil (15% w/v)'} (Distance: 0.5594274997711182)\n",
            "  {'name': 'Waxoban Ear Drop', 'price': 58, 'manufacturer_name': 'Kyna Pharmaceuticals', 'pack_size_label': 'bottle of 10 ml Ear Drop', 'content': 'Benzocaine (2.7% w/v) + Chlorbutol (5% w/v) + Paradichlorobenzene (2% w/v) + Turpentine Oil (15% w/v)'} (Distance: 0.5728233456611633)\n",
            "  {'name': 'Waxrim Ear Drop', 'price': 63, 'manufacturer_name': 'Chethana Pharmaceuticals', 'pack_size_label': 'bottle of 10 ml Ear Drop', 'content': 'Dioctyl sodium sulfosuccinate (0.5% w/v)'} (Distance: 0.5973012447357178)\n",
            "  {'name': 'Waxoris Ear Drop', 'price': 75, 'manufacturer_name': 'Ocuris Pharmaceuticals Pvt Ltd', 'pack_size_label': 'bottle of 10 ml Ear Drop', 'content': 'Benzocaine (2.7% w/v) + Chlorbutol (5% w/v) + Paradichlorobenzene (2% w/v) + Turpentine Oil (15% v/v)'} (Distance: 0.5984376668930054)\n",
            "  {'name': 'Waxgo Ear Drop', 'price': 49, 'manufacturer_name': 'Apa Pharmaceuticals', 'pack_size_label': 'bottle of 5 ml Ear Drop', 'content': 'Lidocaine (2% w/v) + Beclometasone (0.025% w/v) + Clotrimazole (1% w/v) + Chloramphenicol (5% w/v)'} (Distance: 0.6194665431976318)\n",
            "  {'name': 'Waxrid Ear Drop', 'price': 69.47, 'manufacturer_name': 'Kaizen Pharmaceuticals Pvt Ltd', 'pack_size_label': 'packet of 10 ml Ear Drop', 'content': 'Benzocaine (NA) + Chlorbutol (NA) + Paradichlorobenzene (NA) + Turpentine Oil (NA)'} (Distance: 0.6200905442237854)\n",
            "  {'name': 'Bell-Fluconazole Eye/Ear Drops', 'price': 60.5, 'manufacturer_name': 'Bell Pharma Pvt Ltd', 'pack_size_label': 'bottle of 5 ml Eye/Ear Drops', 'content': 'Fluconazole (0.3% w/v)'} (Distance: 0.6222785711288452)\n",
            "--------------------------------------------------\n",
            "Unclean Item: SUPRAGENT LOTION 50ML -- PARKER ROBINSON PVT LTD\n",
            "Top 10 Closest Matches:\n",
            "  {'name': 'Supragent Lotion', 'price': 80, 'manufacturer_name': 'Parker Robinson Pvt  Ltd', 'pack_size_label': 'bottle of 50 ml Lotion', 'content': 'Gentamicin (0.3% w/v)'} (Distance: 0.4061788320541382)\n",
            "  {'name': 'Supragent Lotion', 'price': 69, 'manufacturer_name': 'Parker Robinson Pvt  Ltd', 'pack_size_label': 'bottle of 30 ml Lotion', 'content': 'Gentamicin (0.3% w/v)'} (Distance: 0.40617889165878296)\n",
            "  {'name': 'Supragent 0.3%w/v Lotion', 'price': 22.3, 'manufacturer_name': 'Parker Robinson Pvt  Ltd', 'pack_size_label': 'bottle of 15 ml Lotion', 'content': 'Gentamicin (0.3% w/v)'} (Distance: 0.4124603569507599)\n",
            "  {'name': 'Supragent Cream', 'price': 7.62, 'manufacturer_name': 'Parker Robinson Pvt  Ltd', 'pack_size_label': 'tube of 5 gm Cream', 'content': 'Gentamicin (0.1% w/w)'} (Distance: 0.6097135543823242)\n",
            "  {'name': 'Supragent Cream', 'price': 46, 'manufacturer_name': 'Parker Robinson Pvt  Ltd', 'pack_size_label': 'tube of 20 gm Cream', 'content': 'Gentamicin (0.1% w/w)'} (Distance: 0.6097135543823242)\n",
            "  {'name': 'Becloryl 0.05% Lotion', 'price': 65, 'manufacturer_name': 'Kamryl Biolife Private Limited', 'pack_size_label': 'bottle of 50 ml Lotion', 'content': 'Beclometasone (0.05% w/v)'} (Distance: 0.6137469410896301)\n",
            "  {'name': 'Scabiped 2%/0.5% Lotion', 'price': 73, 'manufacturer_name': 'Parker Robinson Pvt  Ltd', 'pack_size_label': 'bottle of 50 ml Lotion', 'content': 'Lindane (2% w/w) + Cetrimide (0.5% w/w)'} (Distance: 0.6176096200942993)\n",
            "  {'name': 'Supravate Cream', 'price': 16.46, 'manufacturer_name': 'Parker Robinson Pvt  Ltd', 'pack_size_label': 'tube of 10 gm Cream', 'content': 'Clobetasol (0.05% w/w)'} (Distance: 0.6422351598739624)\n",
            "  {'name': 'Deznor 0.05% Lotion', 'price': 153, 'manufacturer_name': 'Kamryl Biolife Private Limited', 'pack_size_label': 'bottle of 30 ml Lotion', 'content': 'Desonide (0.05% w/v)'} (Distance: 0.6570024490356445)\n",
            "  {'name': 'Scabiped Lotion', 'price': 871.36, 'manufacturer_name': 'Parker Robinson Pvt  Ltd', 'pack_size_label': 'bottle of 500 ml Lotion', 'content': 'Lindane (NA) + Cetrimide (NA)'} (Distance: 0.6584197282791138)\n",
            "--------------------------------------------------\n",
            "Unclean Item: IVREA 1% CREAM -- AJANTA PHARMA (ZILLION/MEXLON)\n",
            "Top 10 Closest Matches:\n",
            "  {'name': 'Ivrea 1 Cream', 'price': 178, 'manufacturer_name': 'Ajanta Pharma Ltd', 'pack_size_label': 'tube of 30 gm Cream', 'content': 'Ivermectin (1% w/w)'} (Distance: 0.572769820690155)\n",
            "  {'name': 'Zolrico 1% Cream', 'price': 188.45, 'manufacturer_name': 'Enrico Pharmaceuticals', 'pack_size_label': 'tube of 20 gm Cream', 'content': 'Luliconazole (1% w/w)'} (Distance: 0.5836020708084106)\n",
            "  {'name': 'Zielovate 0.1% Cream', 'price': 119, 'manufacturer_name': 'Ziel Pharmaceuticals', 'pack_size_label': 'bottle of 20 gm Cream', 'content': 'Mometasone (0.1% w/w)'} (Distance: 0.5971767902374268)\n",
            "  {'name': 'A To Z Cream', 'price': 78, 'manufacturer_name': 'Matins Pharma', 'pack_size_label': 'tube of 15 gm Cream', 'content': 'Clobetasol (0.05% w/w) + Neomycin (0.5% w/w) + Miconazole (2% w/w) + Zinc Sulphate Monohydrate (2% w/w)'} (Distance: 0.6002289652824402)\n",
            "  {'name': 'Amrolix 0.25% Cream', 'price': 120, 'manufacturer_name': 'Mezorays Pharma', 'pack_size_label': 'tube of 10 gm Cream', 'content': 'Amorolfine (0.25% w/w)'} (Distance: 0.6019091010093689)\n",
            "  {'name': 'Amrolix 0.25% Cream', 'price': 330, 'manufacturer_name': 'Mezorays Pharma', 'pack_size_label': 'tube of 30 gm Cream', 'content': 'Amorolfine (0.25% w/w)'} (Distance: 0.6019091010093689)\n",
            "  {'name': 'Mexket 2% Cream', 'price': 132, 'manufacturer_name': 'Comex Pharma', 'pack_size_label': 'tube of 30 gm Cream', 'content': 'Ketoconazole (2% w/w)'} (Distance: 0.603962779045105)\n",
            "  {'name': 'Zielu 1% Cream', 'price': 279, 'manufacturer_name': 'Ziel Pharmaceuticals', 'pack_size_label': 'tube of 30 gm Cream', 'content': 'Luliconazole (1% w/w)'} (Distance: 0.6054232120513916)\n",
            "  {'name': 'Meebate Cream', 'price': 44, 'manufacturer_name': 'Mathis Pharma', 'pack_size_label': 'tube of 15 gm Cream', 'content': 'Beclometasone (0.025% w/w) + Neomycin (0.5% w/w) + Clotrimazole (1% w/w) + Chlorocresol (0.1% w/w)'} (Distance: 0.6176936626434326)\n",
            "  {'name': 'Zieket 2% Cream', 'price': 109, 'manufacturer_name': 'Ziel Pharmaceuticals', 'pack_size_label': 'tube of 20 gm Cream', 'content': 'Ketoconazole (2% w/w)'} (Distance: 0.6317567825317383)\n",
            "--------------------------------------------------\n",
            "Unclean Item: KETOCIP 2% SHAMPOO -- CIPLA LIMITED\n",
            "Top 10 Closest Matches:\n",
            "  {'name': 'Ketocip 2% Shampoo', 'price': 305.8, 'manufacturer_name': 'Cipla Ltd', 'pack_size_label': 'bottle of 100 ml Shampoo', 'content': 'Ketoconazole (2% w/v)'} (Distance: 0.3222365081310272)\n",
            "  {'name': 'Danfree Shampoo 1% Ketaconazole', 'price': 264.38, 'manufacturer_name': 'Cipla Ltd', 'pack_size_label': 'bottle of 100 ml Shampoo', 'content': 'Ketoconazole (1% w/v)'} (Distance: 0.5040305852890015)\n",
            "  {'name': 'Ketokut 2% Shampoo', 'price': 210, 'manufacturer_name': 'Matins Pharma', 'pack_size_label': 'bottle of 100 ml Shampoo', 'content': 'Ketoconazole (2% w/v)'} (Distance: 0.5535105466842651)\n",
            "  {'name': 'Ketrop 2% Shampoo', 'price': 140, 'manufacturer_name': 'Dysnec Pharma', 'pack_size_label': 'bottle of 100 ml Shampoo', 'content': 'Ketoconazole (2% w/v)'} (Distance: 0.5600695013999939)\n",
            "  {'name': 'Ketox 2% Shampoo', 'price': 100, 'manufacturer_name': 'Will Impex', 'pack_size_label': 'bottle of 50 ml Shampoo', 'content': 'Ketoconazole (2% w/v)'} (Distance: 0.5873726606369019)\n",
            "  {'name': 'Ketoric 2% Shampoo', 'price': 185, 'manufacturer_name': 'Aseric Pharma', 'pack_size_label': 'bottle of 100 ml Shampoo', 'content': 'Ketoconazole (2% w/w)'} (Distance: 0.6019458770751953)\n",
            "  {'name': 'Ketozac 2% Shampoo', 'price': 169, 'manufacturer_name': 'Acekinetics Healthcare Pvt Ltd', 'pack_size_label': 'bottle of 100 ml Shampoo', 'content': 'Ketoconazole (2% w/v)'} (Distance: 0.6031091213226318)\n",
            "  {'name': 'Ketoryth 2% Shampoo', 'price': 165, 'manufacturer_name': 'Penryth Labs Private Limited', 'pack_size_label': 'bottle of 100 ml Shampoo', 'content': 'Ketoconazole (2%)'} (Distance: 0.6075530052185059)\n",
            "  {'name': 'Ketobuoy 1% Shampoo', 'price': 190, 'manufacturer_name': 'Windlas Biotech Ltd', 'pack_size_label': 'bottle of 100 ml Shampoo', 'content': 'Ketoconazole (1% w/v)'} (Distance: 0.6088247299194336)\n",
            "  {'name': 'Ketocip Shampoo from Cipla for Antifungal Infections', 'price': 264.38, 'manufacturer_name': 'Cipla Ltd', 'pack_size_label': 'bottle of 100 ml Shampoo', 'content': 'Ketoconazole (1% w/v)'} (Distance: 0.6109065413475037)\n",
            "--------------------------------------------------\n",
            "Unclean Item: NEORELAX GEL 50GM -- MEYER ORGANICS (EXCEL)\n",
            "Top 10 Closest Matches:\n",
            "  {'name': 'Neorelax Gel', 'price': 138, 'manufacturer_name': 'Meyer Organics Pvt Ltd', 'pack_size_label': 'tube of 50 gm Gel', 'content': 'Diclofenac (1% w/w)'} (Distance: 0.431954562664032)\n",
            "  {'name': 'NEORELAX 8 MG CAPSULE', 'price': 188.1, 'manufacturer_name': 'Meyer Organics Pvt Ltd', 'pack_size_label': 'strip of 10 capsules', 'content': 'Thiocolchicoside (8mg)'} (Distance: 0.6947948932647705)\n",
            "  {'name': 'Neorelax 4mg Capsule', 'price': 156, 'manufacturer_name': 'Meyer Organics Pvt Ltd', 'pack_size_label': 'strip of 10 capsules', 'content': 'Thiocolchicoside (4mg)'} (Distance: 0.7153741717338562)\n",
            "  {'name': 'Ugesic Gel', 'price': 67.77, 'manufacturer_name': 'Meyer Organics Pvt Ltd', 'pack_size_label': 'tube of 15 gm Gel', 'content': 'Piroxicam (0.5% w/w)'} (Distance: 0.7760765552520752)\n",
            "  {'name': 'Neorelax SP Tablet', 'price': 106, 'manufacturer_name': 'Meyer Organics Pvt Ltd', 'pack_size_label': 'strip of 10 tablets', 'content': 'Aceclofenac (100mg) + Paracetamol (325mg) + Serratiopeptidase (15mg)'} (Distance: 0.7786065340042114)\n",
            "  {'name': 'Neorelax A 4mg Tablet', 'price': 169, 'manufacturer_name': 'Meyer Organics Pvt Ltd', 'pack_size_label': 'strip of 10 tablets', 'content': 'Aceclofenac (100mg) + Thiocolchicoside (4mg)'} (Distance: 0.7816600799560547)\n",
            "  {'name': 'Painkil Gel', 'price': 32.5, 'manufacturer_name': 'Meyer Organics Pvt Ltd', 'pack_size_label': 'tube of 10 gm Gel', 'content': 'Diclofenac diethylamine (1.16% w/w) + Linseed Oil (3% w/w) + Methyl Salicylate (10% w/w) + Menthol (5% w/w)'} (Distance: 0.7935211658477783)\n",
            "  {'name': 'Painkil Gel', 'price': 61.5, 'manufacturer_name': 'Meyer Organics Pvt Ltd', 'pack_size_label': 'tube of 30 gm Gel', 'content': 'Diclofenac diethylamine (1.16% w/w) + Linseed Oil (3% w/w) + Methyl Salicylate (10% w/w) + Menthol (5% w/w)'} (Distance: 0.7935211658477783)\n",
            "  {'name': 'Neorelax P Tablet', 'price': 79, 'manufacturer_name': 'Meyer Organics Pvt Ltd', 'pack_size_label': 'strip of 10 tablets', 'content': 'Aceclofenac (100mg) + Paracetamol (325mg)'} (Distance: 0.8032084107398987)\n",
            "  {'name': 'Adalene Nanogel Gel', 'price': 357.5, 'manufacturer_name': 'Zydus Cadila', 'pack_size_label': 'tube of 15 gm Gel', 'content': 'Adapalene (0.1% w/w) + Clindamycin (1% w/w)'} (Distance: 0.8265367150306702)\n",
            "--------------------------------------------------\n",
            "Unclean Item: CONZOLE M LOTION 50ML -- PARKER ROBINSON PVT LTD\n",
            "Top 10 Closest Matches:\n",
            "  {'name': 'Conzole-M Lotion', 'price': 88, 'manufacturer_name': 'Parker Robinson Pvt  Ltd', 'pack_size_label': 'bottle of 30 ml Lotion', 'content': 'Miconazole (2% w/w)'} (Distance: 0.41197454929351807)\n",
            "  {'name': 'Conzole-M Lotion', 'price': 64, 'manufacturer_name': 'Parker Robinson Pvt  Ltd', 'pack_size_label': 'bottle of 15 ml Lotion', 'content': 'Miconazole (2% w/w)'} (Distance: 0.41197454929351807)\n",
            "  {'name': 'Conzole B Lotion', 'price': 27.4, 'manufacturer_name': 'Parker Robinson Pvt  Ltd', 'pack_size_label': 'bottle of 15 ml Lotion', 'content': 'Betamethasone (0.025% w/w) + Miconazole (2% w/w)'} (Distance: 0.45375144481658936)\n",
            "  {'name': 'Conzole-M Cream', 'price': 23.97, 'manufacturer_name': 'Parker Robinson Pvt  Ltd', 'pack_size_label': 'tube of 15 gm Cream', 'content': 'Miconazole (2% w/w)'} (Distance: 0.6001379489898682)\n",
            "  {'name': 'Conzole-M Cream', 'price': 50, 'manufacturer_name': 'Parker Robinson Pvt  Ltd', 'pack_size_label': 'tube of 20 gm Cream', 'content': 'Miconazole (2% w/w)'} (Distance: 0.6001380681991577)\n",
            "  {'name': 'K Druf 100 ml Lotion', 'price': 186, 'manufacturer_name': 'Nostrum Pharmaceuticals', 'pack_size_label': 'bottle of 100 ml Lotion', 'content': 'Ketoconazole (2% w/w) + Zinc pyrithione (1% w/w)'} (Distance: 0.6262181401252747)\n",
            "  {'name': 'Conzole B Cream', 'price': 34.58, 'manufacturer_name': 'Parker Robinson Pvt  Ltd', 'pack_size_label': 'tube of 15 gm Cream', 'content': 'Betamethasone (0.05% w/w) + Miconazole (2% w/w)'} (Distance: 0.6443029642105103)\n",
            "  {'name': 'Matizma 0.1% Lotion', 'price': 175, 'manufacturer_name': 'Kamryl Biolife Private Limited', 'pack_size_label': 'bottle of 30 ml Lotion', 'content': 'Mometasone (0.1% w/v)'} (Distance: 0.6443601250648499)\n",
            "  {'name': 'Zoderm 1% Lotion', 'price': 87.23, 'manufacturer_name': 'Glaxo SmithKline Pharmaceuticals Ltd', 'pack_size_label': 'bottle of 30 gm Lotion', 'content': 'Oxiconazole (1%)'} (Distance: 0.6518718004226685)\n",
            "  {'name': 'Kaleeze 100ml Lotion', 'price': 50, 'manufacturer_name': 'MHS Pharmaceuticals Pvt Ltd', 'pack_size_label': 'bottle of 100 ml Lotion', 'content': 'Calamine (8% w/v)'} (Distance: 0.6607058048248291)\n",
            "--------------------------------------------------\n",
            "Unclean Item: SALICAL STRONG OINT 15GM -- S. DHOLE & COMPANY\n",
            "Top 10 Closest Matches:\n",
            "  {'name': 'Salicure 17 Ointment', 'price': 149.6, 'manufacturer_name': 'Curatio Healthcare India Pvt Ltd', 'pack_size_label': 'tube of 20 gm Ointment', 'content': 'Salicylic Acid (17% w/w) + Urea (10% w/w)'} (Distance: 0.8796967267990112)\n",
            "  {'name': 'Salid 12% Ointment', 'price': 150, 'manufacturer_name': 'Kaizen Research Labs India Pvt Ltd', 'pack_size_label': 'tube of 50 gm Ointment', 'content': 'Salicylic Acid (12% w/w)'} (Distance: 0.8884963989257812)\n",
            "  {'name': 'Salitone 12% Ointment', 'price': 75, 'manufacturer_name': 'Nidus Pharma Pvt Ltd', 'pack_size_label': 'tube of 30 gm Ointment', 'content': 'Salicylic Acid (12% w/w)'} (Distance: 0.9107046127319336)\n",
            "  {'name': 'Salicure Ointment', 'price': 94, 'manufacturer_name': 'Resilient Cosmecueticals Pvt Ltd', 'pack_size_label': 'tube of 30 gm Ointment', 'content': 'Salicylic Acid (17% w/w)'} (Distance: 0.9488914012908936)\n",
            "  {'name': 'I Salic 3 Ointment', 'price': 328, 'manufacturer_name': 'MRHM Pharma Pvt Ltd', 'pack_size_label': 'tube of 30 gm Ointment', 'content': 'Halobetasol (0.05% w/w) + Salicylic Acid (3% w/w)'} (Distance: 0.9539855718612671)\n",
            "  {'name': 'Salicure 3C Ointment', 'price': 73.97, 'manufacturer_name': 'Resilient Cosmecueticals Pvt Ltd', 'pack_size_label': 'tube of 20 gm Ointment', 'content': 'Clobetasol (0.05% w/w) + Salicylic Acid (6% w/w)'} (Distance: 0.9588709473609924)\n",
            "  {'name': 'Salcin 12% Ointment', 'price': 60, 'manufacturer_name': 'Pasteur Laboratories Pvt Ltd', 'pack_size_label': 'tube of 20 gm Ointment', 'content': 'Salicylic Acid (12% w/w)'} (Distance: 0.9617217779159546)\n",
            "  {'name': 'Salitone 6% Ointment', 'price': 60, 'manufacturer_name': 'Nidus Pharma Pvt Ltd', 'pack_size_label': 'tube of 30 gm Ointment', 'content': 'Salicylic Acid (6% w/w)'} (Distance: 0.9660806655883789)\n",
            "  {'name': 'HI Salic Ointment', 'price': 48.11, 'manufacturer_name': 'Alive Pharmaceutical Pvt Ltd', 'pack_size_label': 'tube of 25 gm Ointment', 'content': 'Mometasone (0.1% w/w) + Salicylic Acid (5% w/w)'} (Distance: 0.9664878845214844)\n",
            "  {'name': 'Salobet Ointment', 'price': 115, 'manufacturer_name': 'Mohrish Pharmaceuticals', 'pack_size_label': 'tube of 20 gm Ointment', 'content': 'Clobetasol (0.05% w/w) + Salicylic Acid (6% w/w)'} (Distance: 0.981120228767395)\n",
            "--------------------------------------------------\n"
          ]
        }
      ],
      "source": [
        "# Extract unclean data (first 3 items)\n",
        "unclean_data_subset = {k: unclean_data[k] for k in list(unclean_data.keys())[:10]}  # Extract first n items\n",
        "# unclean_data_subset = unclean_data\n",
        "\n",
        "# Step 7: Extract relevant text from the unclean data for embeddings\n",
        "unclean_texts = [\n",
        "    # f\"{item['c_item_name']} {item['c_contains']} {item['c_mfg_name']}  {item['n_pack_size']} {item['c_pack_type_name']}\"\n",
        "    f\"{item['c_item_name']} {item['c_item_name']} {item['c_item_name']} {item['c_mfg_name']}  {item['c_mfg_name']}\"\n",
        "    # weights in 3:2 (name and mfg name)\n",
        "    for item in unclean_data_subset.values()\n",
        "]\n",
        "\n",
        "# Generate embeddings for the unclean data\n",
        "unclean_embeddings = model.encode(unclean_texts, convert_to_tensor=True)\n",
        "unclean_embeddings = unclean_embeddings.cpu().numpy()\n",
        "\n",
        "# Perform similarity search for each unclean item\n",
        "k = 10  # Number of closest matches\n",
        "distances, indices = index.search(unclean_embeddings, k)\n",
        "\n",
        "# Print the results\n",
        "for i, unclean_item in enumerate(unclean_data_subset.values()):  # Use unclean_data_subset here\n",
        "    print(f\"Unclean Item: {unclean_item['c_item_name']} -- {unclean_item['c_mfg_name']}\")\n",
        "    print(f\"Top {k} Closest Matches:\")\n",
        "    for j in range(k):\n",
        "        # Ensure indices are valid for clean_data_subset\n",
        "        closest_match = list(clean_data_subset.values())[indices[i][j]]\n",
        "        print(f\"  {closest_match} (Distance: {distances[i][j]})\")\n",
        "    print(\"-\" * 50)\n"
      ]
    },
    {
      "cell_type": "code",
      "execution_count": 41,
      "metadata": {},
      "outputs": [],
      "source": [
        "output_file = \"matches.json\"\n",
        "\n",
        "# Initialize or load existing data\n",
        "if os.path.exists(output_file):\n",
        "    with open(output_file, \"r\") as f:\n",
        "        try:\n",
        "            results = json.load(f)\n",
        "        except json.JSONDecodeError:\n",
        "            results = []\n",
        "else:\n",
        "    results = []\n",
        "\n",
        "for i, (item_id, unclean_item) in enumerate(unclean_data_subset.items()):\n",
        "    match_data = {\n",
        "        \"unclean_item\": {\n",
        "            \"id\": item_id,\n",
        "            \"name\": unclean_item.get(\"c_item_name\", \"\"),\n",
        "            \"manufacturer\": unclean_item.get(\"c_mfg_name\", \"\")\n",
        "        },\n",
        "        \"matches\": []\n",
        "    }\n",
        "\n",
        "\n",
        "    for j in range(k):\n",
        "        closest_match = list(clean_data_subset.values())[indices[i][j]]\n",
        "        match_data[\"matches\"].append({\n",
        "            \"id\": list(clean_data_subset.keys())[indices[i][j]],  # Get the corresponding key (ID)\n",
        "            \"match\": closest_match,\n",
        "            \"distance\": float(distances[i][j])  # Convert np.float32 to Python float\n",
        "        })\n",
        "\n",
        "\n",
        "    results.append(match_data)\n",
        "\n",
        "    # Save to file after each iteration\n",
        "    with open(output_file, \"w\") as f:\n",
        "        json.dump(results, f, indent=4)\n"
      ]
    }
  ],
  "metadata": {
    "accelerator": "GPU",
    "colab": {
      "gpuType": "T4",
      "provenance": []
    },
    "kernelspec": {
      "display_name": "venv",
      "language": "python",
      "name": "python3"
    },
    "language_info": {
      "codemirror_mode": {
        "name": "ipython",
        "version": 3
      },
      "file_extension": ".py",
      "mimetype": "text/x-python",
      "name": "python",
      "nbconvert_exporter": "python",
      "pygments_lexer": "ipython3",
      "version": "3.12.9"
    },
    "widgets": {
      "application/vnd.jupyter.widget-state+json": {
        "43a9f3ba3d464e4dbceecb67fd9505dc": {
          "model_module": "@jupyter-widgets/base",
          "model_module_version": "1.2.0",
          "model_name": "LayoutModel",
          "state": {
            "_model_module": "@jupyter-widgets/base",
            "_model_module_version": "1.2.0",
            "_model_name": "LayoutModel",
            "_view_count": null,
            "_view_module": "@jupyter-widgets/base",
            "_view_module_version": "1.2.0",
            "_view_name": "LayoutView",
            "align_content": null,
            "align_items": null,
            "align_self": null,
            "border": null,
            "bottom": null,
            "display": null,
            "flex": null,
            "flex_flow": null,
            "grid_area": null,
            "grid_auto_columns": null,
            "grid_auto_flow": null,
            "grid_auto_rows": null,
            "grid_column": null,
            "grid_gap": null,
            "grid_row": null,
            "grid_template_areas": null,
            "grid_template_columns": null,
            "grid_template_rows": null,
            "height": null,
            "justify_content": null,
            "justify_items": null,
            "left": null,
            "margin": null,
            "max_height": null,
            "max_width": null,
            "min_height": null,
            "min_width": null,
            "object_fit": null,
            "object_position": null,
            "order": null,
            "overflow": null,
            "overflow_x": null,
            "overflow_y": null,
            "padding": null,
            "right": null,
            "top": null,
            "visibility": null,
            "width": null
          }
        },
        "51fa911a25654b7ea80a2eef69b2979a": {
          "model_module": "@jupyter-widgets/base",
          "model_module_version": "1.2.0",
          "model_name": "LayoutModel",
          "state": {
            "_model_module": "@jupyter-widgets/base",
            "_model_module_version": "1.2.0",
            "_model_name": "LayoutModel",
            "_view_count": null,
            "_view_module": "@jupyter-widgets/base",
            "_view_module_version": "1.2.0",
            "_view_name": "LayoutView",
            "align_content": null,
            "align_items": null,
            "align_self": null,
            "border": null,
            "bottom": null,
            "display": null,
            "flex": null,
            "flex_flow": null,
            "grid_area": null,
            "grid_auto_columns": null,
            "grid_auto_flow": null,
            "grid_auto_rows": null,
            "grid_column": null,
            "grid_gap": null,
            "grid_row": null,
            "grid_template_areas": null,
            "grid_template_columns": null,
            "grid_template_rows": null,
            "height": null,
            "justify_content": null,
            "justify_items": null,
            "left": null,
            "margin": null,
            "max_height": null,
            "max_width": null,
            "min_height": null,
            "min_width": null,
            "object_fit": null,
            "object_position": null,
            "order": null,
            "overflow": null,
            "overflow_x": null,
            "overflow_y": null,
            "padding": null,
            "right": null,
            "top": null,
            "visibility": null,
            "width": null
          }
        },
        "5f86cc095e0643828cca441e9f709a03": {
          "model_module": "@jupyter-widgets/base",
          "model_module_version": "1.2.0",
          "model_name": "LayoutModel",
          "state": {
            "_model_module": "@jupyter-widgets/base",
            "_model_module_version": "1.2.0",
            "_model_name": "LayoutModel",
            "_view_count": null,
            "_view_module": "@jupyter-widgets/base",
            "_view_module_version": "1.2.0",
            "_view_name": "LayoutView",
            "align_content": null,
            "align_items": null,
            "align_self": null,
            "border": null,
            "bottom": null,
            "display": null,
            "flex": null,
            "flex_flow": null,
            "grid_area": null,
            "grid_auto_columns": null,
            "grid_auto_flow": null,
            "grid_auto_rows": null,
            "grid_column": null,
            "grid_gap": null,
            "grid_row": null,
            "grid_template_areas": null,
            "grid_template_columns": null,
            "grid_template_rows": null,
            "height": null,
            "justify_content": null,
            "justify_items": null,
            "left": null,
            "margin": null,
            "max_height": null,
            "max_width": null,
            "min_height": null,
            "min_width": null,
            "object_fit": null,
            "object_position": null,
            "order": null,
            "overflow": null,
            "overflow_x": null,
            "overflow_y": null,
            "padding": null,
            "right": null,
            "top": null,
            "visibility": null,
            "width": null
          }
        },
        "8025f77333dc451ba46b5b85b644635d": {
          "model_module": "@jupyter-widgets/controls",
          "model_module_version": "1.5.0",
          "model_name": "HBoxModel",
          "state": {
            "_dom_classes": [],
            "_model_module": "@jupyter-widgets/controls",
            "_model_module_version": "1.5.0",
            "_model_name": "HBoxModel",
            "_view_count": null,
            "_view_module": "@jupyter-widgets/controls",
            "_view_module_version": "1.5.0",
            "_view_name": "HBoxView",
            "box_style": "",
            "children": [
              "IPY_MODEL_eb4383695cf2436cade4e0ebe04dde9b",
              "IPY_MODEL_8c920331720f474f96950b11ea062d91",
              "IPY_MODEL_d6b7e11e935d435c8ff2bc49289aafa1"
            ],
            "layout": "IPY_MODEL_43a9f3ba3d464e4dbceecb67fd9505dc"
          }
        },
        "84b964e639c9410882c6971d1c73c811": {
          "model_module": "@jupyter-widgets/controls",
          "model_module_version": "1.5.0",
          "model_name": "DescriptionStyleModel",
          "state": {
            "_model_module": "@jupyter-widgets/controls",
            "_model_module_version": "1.5.0",
            "_model_name": "DescriptionStyleModel",
            "_view_count": null,
            "_view_module": "@jupyter-widgets/base",
            "_view_module_version": "1.2.0",
            "_view_name": "StyleView",
            "description_width": ""
          }
        },
        "870cf2f76ee743bc9e79ac5436fc0495": {
          "model_module": "@jupyter-widgets/controls",
          "model_module_version": "1.5.0",
          "model_name": "DescriptionStyleModel",
          "state": {
            "_model_module": "@jupyter-widgets/controls",
            "_model_module_version": "1.5.0",
            "_model_name": "DescriptionStyleModel",
            "_view_count": null,
            "_view_module": "@jupyter-widgets/base",
            "_view_module_version": "1.2.0",
            "_view_name": "StyleView",
            "description_width": ""
          }
        },
        "8c920331720f474f96950b11ea062d91": {
          "model_module": "@jupyter-widgets/controls",
          "model_module_version": "1.5.0",
          "model_name": "FloatProgressModel",
          "state": {
            "_dom_classes": [],
            "_model_module": "@jupyter-widgets/controls",
            "_model_module_version": "1.5.0",
            "_model_name": "FloatProgressModel",
            "_view_count": null,
            "_view_module": "@jupyter-widgets/controls",
            "_view_module_version": "1.5.0",
            "_view_name": "ProgressView",
            "bar_style": "success",
            "description": "",
            "description_tooltip": null,
            "layout": "IPY_MODEL_51fa911a25654b7ea80a2eef69b2979a",
            "max": 8783,
            "min": 0,
            "orientation": "horizontal",
            "style": "IPY_MODEL_8fbeca99ad744c7397655e2a9d6cc53d",
            "value": 8783
          }
        },
        "8fbeca99ad744c7397655e2a9d6cc53d": {
          "model_module": "@jupyter-widgets/controls",
          "model_module_version": "1.5.0",
          "model_name": "ProgressStyleModel",
          "state": {
            "_model_module": "@jupyter-widgets/controls",
            "_model_module_version": "1.5.0",
            "_model_name": "ProgressStyleModel",
            "_view_count": null,
            "_view_module": "@jupyter-widgets/base",
            "_view_module_version": "1.2.0",
            "_view_name": "StyleView",
            "bar_color": null,
            "description_width": ""
          }
        },
        "a1c9f06fc61e4e229d19af515d31579e": {
          "model_module": "@jupyter-widgets/base",
          "model_module_version": "1.2.0",
          "model_name": "LayoutModel",
          "state": {
            "_model_module": "@jupyter-widgets/base",
            "_model_module_version": "1.2.0",
            "_model_name": "LayoutModel",
            "_view_count": null,
            "_view_module": "@jupyter-widgets/base",
            "_view_module_version": "1.2.0",
            "_view_name": "LayoutView",
            "align_content": null,
            "align_items": null,
            "align_self": null,
            "border": null,
            "bottom": null,
            "display": null,
            "flex": null,
            "flex_flow": null,
            "grid_area": null,
            "grid_auto_columns": null,
            "grid_auto_flow": null,
            "grid_auto_rows": null,
            "grid_column": null,
            "grid_gap": null,
            "grid_row": null,
            "grid_template_areas": null,
            "grid_template_columns": null,
            "grid_template_rows": null,
            "height": null,
            "justify_content": null,
            "justify_items": null,
            "left": null,
            "margin": null,
            "max_height": null,
            "max_width": null,
            "min_height": null,
            "min_width": null,
            "object_fit": null,
            "object_position": null,
            "order": null,
            "overflow": null,
            "overflow_x": null,
            "overflow_y": null,
            "padding": null,
            "right": null,
            "top": null,
            "visibility": null,
            "width": null
          }
        },
        "d6b7e11e935d435c8ff2bc49289aafa1": {
          "model_module": "@jupyter-widgets/controls",
          "model_module_version": "1.5.0",
          "model_name": "HTMLModel",
          "state": {
            "_dom_classes": [],
            "_model_module": "@jupyter-widgets/controls",
            "_model_module_version": "1.5.0",
            "_model_name": "HTMLModel",
            "_view_count": null,
            "_view_module": "@jupyter-widgets/controls",
            "_view_module_version": "1.5.0",
            "_view_name": "HTMLView",
            "description": "",
            "description_tooltip": null,
            "layout": "IPY_MODEL_5f86cc095e0643828cca441e9f709a03",
            "placeholder": "​",
            "style": "IPY_MODEL_870cf2f76ee743bc9e79ac5436fc0495",
            "value": " 8783/8783 [01:47&lt;00:00, 71.15it/s]"
          }
        },
        "eb4383695cf2436cade4e0ebe04dde9b": {
          "model_module": "@jupyter-widgets/controls",
          "model_module_version": "1.5.0",
          "model_name": "HTMLModel",
          "state": {
            "_dom_classes": [],
            "_model_module": "@jupyter-widgets/controls",
            "_model_module_version": "1.5.0",
            "_model_name": "HTMLModel",
            "_view_count": null,
            "_view_module": "@jupyter-widgets/controls",
            "_view_module_version": "1.5.0",
            "_view_name": "HTMLView",
            "description": "",
            "description_tooltip": null,
            "layout": "IPY_MODEL_a1c9f06fc61e4e229d19af515d31579e",
            "placeholder": "​",
            "style": "IPY_MODEL_84b964e639c9410882c6971d1c73c811",
            "value": "Batches: 100%"
          }
        }
      }
    }
  },
  "nbformat": 4,
  "nbformat_minor": 0
}
